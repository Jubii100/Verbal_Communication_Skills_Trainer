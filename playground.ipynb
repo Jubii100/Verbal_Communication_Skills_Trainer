{
 "cells": [
  {
   "cell_type": "code",
   "execution_count": 7,
   "metadata": {},
   "outputs": [],
   "source": [
    "import os\n",
    "import json\n",
    "import requests\n",
    "\n",
    "class Singleton(type):\n",
    "    _instances = {}\n",
    "    def __call__(cls, *args, **kwargs):\n",
    "        if cls not in cls._instances:\n",
    "            cls._instances[cls] = super(Singleton, cls).__call__(*args, **kwargs)\n",
    "        return cls._instances[cls]\n",
    "\n",
    "class llm_wrap(metaclass=Singleton):\n",
    "    def __init__(self, config_file=\"ollama_config.json\"):\n",
    "        self.loaded = False\n",
    "        self.config_data = self.load_config(config_file)\n",
    "        self.load_response = self.load_model(self.config_data[\"LLM\"])\n",
    "        if self.load_response.status_code == 200: self.loaded = True\n",
    "\n",
    "    def load_config(self, config_file):\n",
    "        \"\"\"\n",
    "        Loads environment-variable-like keys from a JSON file and sets them.\n",
    "        \"\"\"\n",
    "        with open(config_file, 'r') as f:\n",
    "            config_data = json.load(f)\n",
    "        for key, value in config_data.items():\n",
    "            os.environ[key] = str(value)\n",
    "        return config_data\n",
    "\n",
    "    def load_model(self, model_name: str):\n",
    "        \"\"\"\n",
    "        Instantiates an Ollama client for a given model.\n",
    "        Because environment variables are already set,\n",
    "        Ollama respects those concurrency/queue settings.\n",
    "        \"\"\"\n",
    "        url = self.config_data[\"LOAD_MODEL_API_PATH\"]\n",
    "        payload = {\n",
    "            \"model\": model_name,\n",
    "            \"stream\": False  \n",
    "        }\n",
    "\n",
    "        response = requests.post(url, json=payload)\n",
    "        print(\"Status code:\", response.status_code)\n",
    "        print(\"Response:\", response.text)\n",
    "\n",
    "        return response\n",
    "    \n",
    "    def process_prompt(self, prompt: str, chat = True):\n",
    "        \"\"\"\n",
    "        Sends a prompt to the provided Ollama client and prints the \n",
    "        streamed output in real-time.\n",
    "        \"\"\"\n",
    "        if self.loaded:\n",
    "            url = self.config_data[\"CHAT_API_PATH\"] if chat else self.config_data[\"GENERATE_API_PATH\"]\n",
    "            payload = {\n",
    "                        \"model\": self.config_data[\"LLM\"],\n",
    "                        \"messages\": [\n",
    "                            {\n",
    "                            \"role\": \"user\",\n",
    "                            \"content\": prompt\n",
    "                            }\n",
    "                        ],\n",
    "                        \"stream\": True,\n",
    "                        \"options\": {\n",
    "                                    \"temperature\": self.config_data[\"TEMPERATURE\"]\n",
    "                                    }\n",
    "                        }\n",
    "            response = requests.post(url, json=payload, stream=True)\n",
    "            self.complete_message = \"\"\n",
    "            for line in response.iter_lines(decode_unicode=True):\n",
    "                if line: \n",
    "                    try:\n",
    "                        chunk = json.loads(line)\n",
    "                        print(chunk)\n",
    "                        if chunk[\"done\"]:\n",
    "                            return self.complete_message\n",
    "                        else:\n",
    "                            self.complete_message += chunk[\"message\"][\"content\"]\n",
    "                            yield self.complete_message\n",
    "                    except json.JSONDecodeError as e:\n",
    "                        print(\"Could not decode chunk:\", line)\n",
    "                        return False\n",
    "\n",
    "            # return response\n",
    "        else:\n",
    "            print(\"Failed to load the model\")\n"
   ]
  },
  {
   "cell_type": "code",
   "execution_count": null,
   "metadata": {},
   "outputs": [],
   "source": [
    "for response in llm_wrap().process_prompt(\"think and say something\"):\n",
    "    # print(response)\n",
    "    pass"
   ]
  },
  {
   "cell_type": "code",
   "execution_count": null,
   "metadata": {},
   "outputs": [],
   "source": [
    "import gradio as gr\n",
    "import random\n",
    "import time\n",
    "\n",
    "with gr.Blocks() as demo:\n",
    "    chatbot = gr.Chatbot(type=\"messages\")\n",
    "    msg = gr.Textbox()\n",
    "    clear = gr.ClearButton([msg, chatbot])\n",
    "\n",
    "    def respond(message, chat_history):\n",
    "        bot_message = random.choice([\"How are you?\", \"Today is a great day\", \"I'm very hungry\"])\n",
    "        chat_history.append({\"role\": \"user\", \"content\": message})\n",
    "        chat_history.append({\"role\": \"assistant\", \"content\": bot_message})\n",
    "        time.sleep(2)\n",
    "        return \"\", chat_history\n",
    "\n",
    "    msg.submit(respond, [msg, chatbot], [msg, chatbot])\n",
    "\n",
    "demo.launch()"
   ]
  },
  {
   "cell_type": "code",
   "execution_count": 1,
   "metadata": {},
   "outputs": [
    {
     "name": "stderr",
     "output_type": "stream",
     "text": [
      "/home/mhammed/Desktop/tech_projects/Verbal_Communication_Skills_Trainer/Verbal_Communication_Skills_Trainer_venv/lib/python3.12/site-packages/tqdm/auto.py:21: TqdmWarning: IProgress not found. Please update jupyter and ipywidgets. See https://ipywidgets.readthedocs.io/en/stable/user_install.html\n",
      "  from .autonotebook import tqdm as notebook_tqdm\n",
      "/home/mhammed/Desktop/tech_projects/Verbal_Communication_Skills_Trainer/Verbal_Communication_Skills_Trainer_venv/lib/python3.12/site-packages/gradio/utils.py:1024: UserWarning: Expected 3 arguments for function <function generate_tone at 0x7ba8a40c1f80>, received 1.\n",
      "  warnings.warn(\n",
      "/home/mhammed/Desktop/tech_projects/Verbal_Communication_Skills_Trainer/Verbal_Communication_Skills_Trainer_venv/lib/python3.12/site-packages/gradio/utils.py:1028: UserWarning: Expected at least 3 arguments for function <function generate_tone at 0x7ba8a40c1f80>, received 1.\n",
      "  warnings.warn(\n"
     ]
    },
    {
     "name": "stdout",
     "output_type": "stream",
     "text": [
      "* Running on local URL:  http://127.0.0.1:7860\n",
      "\n",
      "To create a public link, set `share=True` in `launch()`.\n"
     ]
    },
    {
     "data": {
      "text/html": [
       "<div><iframe src=\"http://127.0.0.1:7860/\" width=\"100%\" height=\"500\" allow=\"autoplay; camera; microphone; clipboard-read; clipboard-write;\" frameborder=\"0\" allowfullscreen></iframe></div>"
      ],
      "text/plain": [
       "<IPython.core.display.HTML object>"
      ]
     },
     "metadata": {},
     "output_type": "display_data"
    }
   ],
   "source": [
    "import numpy as np\n",
    "import gradio as gr\n",
    "\n",
    "notes = [\"C\", \"C#\", \"D\", \"D#\", \"E\", \"F\", \"F#\", \"G\", \"G#\", \"A\", \"A#\", \"B\"]\n",
    "\n",
    "def generate_tone(note, octave, duration):\n",
    "    sr = 48000\n",
    "    a4_freq, tones_from_a4 = 440, 12 * (octave - 4) + (note - 9)\n",
    "    frequency = a4_freq * 2 ** (tones_from_a4 / 12)\n",
    "    duration = int(duration)\n",
    "    audio = np.linspace(0, duration, duration * sr)\n",
    "    audio = (20000 * np.sin(audio * (2 * np.pi * frequency))).astype(np.int16)\n",
    "    return sr, audio\n",
    "\n",
    "demo = gr.Interface(\n",
    "    generate_tone,\n",
    "    [\n",
    "        # gr.Dropdown(notes, type=\"index\"),\n",
    "        # gr.Slider(4, 6, step=1),\n",
    "        # gr.Textbox(value=\"1\", label=\"Duration in seconds\"),\n",
    "        gr.Audio()\n",
    "    ],\n",
    "    \"audio\",\n",
    ")\n",
    "if __name__ == \"__main__\":\n",
    "    demo.launch()"
   ]
  },
  {
   "cell_type": "code",
   "execution_count": null,
   "metadata": {},
   "outputs": [
    {
     "name": "stderr",
     "output_type": "stream",
     "text": [
      "/home/mhammed/Desktop/tech_projects/Verbal_Communication_Skills_Trainer/Verbal_Communication_Skills_Trainer_venv/lib/python3.12/site-packages/tqdm/auto.py:21: TqdmWarning: IProgress not found. Please update jupyter and ipywidgets. See https://ipywidgets.readthedocs.io/en/stable/user_install.html\n",
      "  from .autonotebook import tqdm as notebook_tqdm\n"
     ]
    }
   ],
   "source": [
    "import gradio as gr\n",
    "from gradio import ChatMessage\n",
    "from prompt_handler import handle_prompt\n",
    "import gradio as gr\n",
    "\n",
    "class SingletonMeta(type):\n",
    "    _instances = {}\n",
    "\n",
    "    def __call__(cls, *args, **kwargs):\n",
    "        if cls not in cls._instances:\n",
    "            cls._instances[cls] = super(SingletonMeta, cls).__call__(*args, **kwargs)\n",
    "        return cls._instances[cls]\n",
    "\n",
    "class ChatInterface(metaclass=SingletonMeta):\n",
    "    def __init__(self):\n",
    "        self.demo = gr.ChatInterface(\n",
    "            chat_function,\n",
    "            title=\"Verbal Communication Skills Trainer 💪\",\n",
    "            type=\"messages\",\n",
    "            multimodal=True,\n",
    "            textbox=gr.MultimodalTextbox(sources=[\"microphone\", \"upload\"]),\n",
    "            # additional_inputs= gr.Audio()\n",
    "        )\n",
    "        \n",
    "\n",
    "    def launch_interface(self):\n",
    "        self.demo.launch()\n",
    "\n",
    "\n",
    "def chat_function(message, history):\n",
    "    # print(history)\n",
    "    # print(\"#######################\")\n",
    "    # print(message)\n",
    "\n",
    "    response = [ChatMessage(\n",
    "        content=\"\",\n",
    "        metadata={}\n",
    "    )]\n",
    "\n",
    "    stage = \"think\"\n",
    "    for llm_response in handle_prompt(message, chat = True).get_llm_output():\n",
    "        llm_response, stage = process_string(llm_response, stage)\n",
    "\n",
    "        if stage==\"think\":\n",
    "            response[-1].content = llm_response\n",
    "            response[-1].metadata = {\"title\": \"Evaluating\", \"id\": 0, \"status\": \"pending\"}\n",
    "        elif stage==\"transition\":\n",
    "            response[-1].content = llm_response\n",
    "            response[-1].metadata[\"status\"] = \"done\"\n",
    "            response[-1].metadata[\"thought_len\"] = len(llm_response)\n",
    "            response.append(ChatMessage(content=\"\"))\n",
    "        else:\n",
    "            response[-1]=ChatMessage(content=llm_response[response[-2].metadata[\"thought_len\"]:])\n",
    "        yield response\n",
    "\n",
    "def process_string(s, stage):\n",
    "    if s.startswith(\"<think>\") and \"</think>\" not in s: stage = \"think\"\n",
    "    elif stage == \"think\": stage = \"transition\"\n",
    "    else: stage = \"respond\"\n",
    "    \n",
    "    s = s.replace(\"<think>\", \"\")\n",
    "    s = s.replace(\"</think>\", \"\")\n",
    "    \n",
    "    return s, stage\n"
   ]
  },
  {
   "cell_type": "code",
   "execution_count": 2,
   "metadata": {},
   "outputs": [
    {
     "name": "stdout",
     "output_type": "stream",
     "text": [
      "* Running on local URL:  http://127.0.0.1:7860\n",
      "\n",
      "To create a public link, set `share=True` in `launch()`.\n"
     ]
    },
    {
     "data": {
      "text/html": [
       "<div><iframe src=\"http://127.0.0.1:7860/\" width=\"100%\" height=\"500\" allow=\"autoplay; camera; microphone; clipboard-read; clipboard-write;\" frameborder=\"0\" allowfullscreen></iframe></div>"
      ],
      "text/plain": [
       "<IPython.core.display.HTML object>"
      ]
     },
     "metadata": {},
     "output_type": "display_data"
    }
   ],
   "source": [
    "ChatInterface().launch_interface()"
   ]
  },
  {
   "cell_type": "code",
   "execution_count": 2,
   "metadata": {},
   "outputs": [
    {
     "name": "stdout",
     "output_type": "stream",
     "text": [
      "* Running on local URL:  http://127.0.0.1:7861\n",
      "* Running on public URL: https://2c71bd42bb272cdf11.gradio.live\n",
      "\n",
      "This share link expires in 72 hours. For free permanent hosting and GPU upgrades, run `gradio deploy` from the terminal in the working directory to deploy to Hugging Face Spaces (https://huggingface.co/spaces)\n"
     ]
    },
    {
     "data": {
      "text/html": [
       "<div><iframe src=\"https://2c71bd42bb272cdf11.gradio.live\" width=\"100%\" height=\"500\" allow=\"autoplay; camera; microphone; clipboard-read; clipboard-write;\" frameborder=\"0\" allowfullscreen></iframe></div>"
      ],
      "text/plain": [
       "<IPython.core.display.HTML object>"
      ]
     },
     "metadata": {},
     "output_type": "display_data"
    },
    {
     "data": {
      "text/plain": []
     },
     "execution_count": 2,
     "metadata": {},
     "output_type": "execute_result"
    }
   ],
   "source": [
    "import gradio\n",
    "\n",
    "with gradio.Blocks() as interface:\n",
    "    recorder = gradio.Audio(sources='microphone', type='filepath', visible=False)\n",
    "    action_btn = gradio.Button('Start')\n",
    "    def next_line(action, _):\n",
    "        if action == 'Start':\n",
    "            return {action_btn: 'Next', recorder: gradio.update(visible=True)}\n",
    "        else:\n",
    "            return {action_btn: 'Done', recorder: gradio.update(visible=False)}\n",
    "    action_btn.click(next_line, inputs=[action_btn, recorder], outputs=[action_btn, recorder])\n",
    "interface.launch(share=True)"
   ]
  }
 ],
 "metadata": {
  "kernelspec": {
   "display_name": "Verbal_Communication_Skills_Trainer_venv",
   "language": "python",
   "name": "python3"
  },
  "language_info": {
   "codemirror_mode": {
    "name": "ipython",
    "version": 3
   },
   "file_extension": ".py",
   "mimetype": "text/x-python",
   "name": "python",
   "nbconvert_exporter": "python",
   "pygments_lexer": "ipython3",
   "version": "3.12.7"
  }
 },
 "nbformat": 4,
 "nbformat_minor": 2
}
